{
  "nbformat": 4,
  "nbformat_minor": 0,
  "metadata": {
    "colab": {
      "name": "Starter: Customer Support on Twitter dbbcbbd1-6",
      "provenance": [],
      "collapsed_sections": [],
      "authorship_tag": "ABX9TyON+ZIZnHboaKp1zb5iXW9w",
      "include_colab_link": true
    },
    "kernelspec": {
      "name": "python3",
      "display_name": "Python 3"
    },
    "language_info": {
      "name": "python"
    }
  },
  "cells": [
    {
      "cell_type": "markdown",
      "metadata": {
        "id": "view-in-github",
        "colab_type": "text"
      },
      "source": [
        "<a href=\"https://colab.research.google.com/github/menma07/UTS_DATA_ANALYTICS/blob/main/Starter_Customer_Support_on_Twitter_dbbcbbd1_6.ipynb\" target=\"_parent\"><img src=\"https://colab.research.google.com/assets/colab-badge.svg\" alt=\"Open In Colab\"/></a>"
      ]
    },
    {
      "cell_type": "code",
      "execution_count": 1,
      "metadata": {
        "colab": {
          "resources": {
            "http://localhost:8080/nbextensions/google.colab/files.js": {
              "data": "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",
              "ok": true,
              "headers": [
                [
                  "content-type",
                  "application/javascript"
                ]
              ],
              "status": 200,
              "status_text": ""
            }
          },
          "base_uri": "https://localhost:8080/",
          "height": 110
        },
        "id": "Niqd-CUDIS4I",
        "outputId": "ec6167b7-9ff6-4328-c5ca-7dbbcca0d304"
      },
      "outputs": [
        {
          "output_type": "display_data",
          "data": {
            "text/plain": [
              "<IPython.core.display.HTML object>"
            ],
            "text/html": [
              "\n",
              "     <input type=\"file\" id=\"files-98bd5cc9-1045-492a-be7b-a36ebe95aeb4\" name=\"files[]\" multiple disabled\n",
              "        style=\"border:none\" />\n",
              "     <output id=\"result-98bd5cc9-1045-492a-be7b-a36ebe95aeb4\">\n",
              "      Upload widget is only available when the cell has been executed in the\n",
              "      current browser session. Please rerun this cell to enable.\n",
              "      </output>\n",
              "      <script src=\"/nbextensions/google.colab/files.js\"></script> "
            ]
          },
          "metadata": {}
        },
        {
          "output_type": "stream",
          "name": "stdout",
          "text": [
            "Saving sample.csv to sample.csv\n"
          ]
        },
        {
          "output_type": "execute_result",
          "data": {
            "text/plain": [
              "{'sample.csv': b'tweet_id,author_id,inbound,created_at,text,response_tweet_id,in_response_to_tweet_id\\r\\n119237,105834,True,Wed Oct 11 06:55:44 +0000 2017,@AppleSupport causing the reply to be disregarded and the tapped notification under the keyboard is opened\\xf0\\x9f\\x98\\xa1\\xf0\\x9f\\x98\\xa1\\xf0\\x9f\\x98\\xa1,119236,\\r\\n119238,ChaseSupport,False,Wed Oct 11 13:25:49 +0000 2017,\"@105835 Your business means a lot to us. Please DM your name, zip code and additional details about your concern. ^RR https://t.co/znUu1VJn9r\",,119239\\r\\n119239,105835,True,Wed Oct 11 13:00:09 +0000 2017,@76328 I really hope you all change but I\\'m sure you won\\'t! Because you don\\'t have to!,119238,\\r\\n119240,VirginTrains,False,Tue Oct 10 15:16:08 +0000 2017,\"@105836 LiveChat is online at the moment - https://t.co/SY94VtU8Kq or contact 03331 031 031 option 1, 4, 3 (Leave a message) to request a call back\",119241,119242\\r\\n119241,105836,True,Tue Oct 10 15:17:21 +0000 2017,@VirginTrains see attached error message. I\\'ve tried leaving a voicemail several times in the past week https://t.co/NxVZjlYx1k,119243,119240\\r\\n119243,VirginTrains,False,Tue Oct 10 15:25:14 +0000 2017,\"@105836 Have you tried from another device, Miriam ^MM\",119244,119241\\r\\n119244,105836,True,Tue Oct 10 15:26:44 +0000 2017,\"@VirginTrains yep, I\\'ve tried laptop too several times over the past week and again today. I\\'ve tried different browsers too\",119245,119243\\r\\n119245,VirginTrains,False,Tue Oct 10 15:33:22 +0000 2017,\"@105836 It\\'s working OK from here, Miriam. Does this link help https://t.co/0m2mpH15eh ? ^MM\",,119244\\r\\n119242,105836,True,Tue Oct 10 15:09:00 +0000 2017,@VirginTrains I still haven\\'t heard &amp; the number I\\'m directed to by phone is a dead end &amp; the live chat doesn\\'t work. Can someone call me?,119240,119246\\r\\n119246,VirginTrains,False,Tue Oct 10 10:13:19 +0000 2017,@105836 That\\'s what we\\'re here for Miriam \\xf0\\x9f\\x98\\x8a  The team should send you an email shortly ^HP,119242,119247\\r\\n119248,AppleSupport,False,Wed Oct 11 13:38:29 +0000 2017,@105837 We can help. Which version of iOS are you on? You can find that in Settings &gt; General &gt; About. Reply in DM. https://t.co/GDrqU22YpT,,119249\\r\\n119249,105837,True,Wed Oct 11 07:37:27 +0000 2017,\"@105838 @AppleSupport Me too am suffering , hope the can find a solution\",119248,119250\\r\\n119250,105838,True,Wed Oct 11 05:33:17 +0000 2017,\"@AppleSupport hi #apple, I\\xe2\\x80\\x99ve a concern about the latest ios is too slow on #iphone6 and i am not happy with it. Any solution please?\",\"119249,119251\",\\r\\n119252,AppleSupport,False,Wed Oct 11 13:40:27 +0000 2017,@105839 Thanks for reaching out to us. We are always happy to help. Send us a DM so we can look into this together. https://t.co/GDrqU22YpT,,119253\\r\\n119253,105839,True,Wed Oct 11 07:21:34 +0000 2017,I just updated my phone and suddenly everything takes ages to load wtf @76099 this update sux I hate it fix it bye,119252,\\r\\n119254,SpotifyCares,False,Wed Oct 11 13:41:25 +0000 2017,\"@105840 Hi there! What device is this happening on? If you could also let us know the Android and Spotify versions you\\'re using, that\\'d be great /AY\",119255,119256\\r\\n119255,105840,True,Wed Oct 11 13:45:59 +0000 2017,@SpotifyCares Thanks! Version 8.4.22.857 armv7 on anker bluetooth speaker on Samsung Galaxy Tab A (2016) Model SM-T280 Does distance from speaker matter?,119257,119254\\r\\n119257,SpotifyCares,False,Wed Oct 11 14:00:48 +0000 2017,@105840 Thanks. The distance could possibly affect playback. Does logging out &gt; restarting your device &gt; logging back in make a difference? /AY,119258,119255\\r\\n119258,105840,True,Wed Oct 11 14:01:58 +0000 2017,\"@SpotifyCares No, but I\\'ve moved speaker to about 1 metre away and it\\'s not skipping at the mo - it was about 3 or 4 metres away before. Fingers crossed!\",119259,119257\\r\\n119259,SpotifyCares,False,Wed Oct 11 14:20:00 +0000 2017,\"@105840 That\\'s great to hear. If anything comes up, just let us know. We\\'ll carry on helping out \\xf0\\x9f\\x99\\x82 /AY\",119260,119258\\r\\n119260,105840,True,Wed Oct 11 14:22:05 +0000 2017,@SpotifyCares Brilliant thanks \\xf0\\x9f\\x98\\x8a,119261,119259\\r\\n119261,SpotifyCares,False,Wed Oct 11 14:41:35 +0000 2017,\"@105840 You\\'re welcome! If there\\'s anything else we can help with, just give us a shout. We\\'re here for you \\xf0\\x9f\\x98\\x89 /CP\",,119260\\r\\n119256,105840,True,Wed Oct 11 12:53:29 +0000 2017,@76495 @91226 Please help! Spotify Premium skipping through songs constantly on android tablet &amp; bluetooth speaker. Tried everything!,119254,\\r\\n119262,AppleSupport,False,Wed Oct 11 13:30:39 +0000 2017,@105841 We\\'d love to help! Please DM us and let us know any steps you\\'ve tried since experiencing these behaviors. https://t.co/GDrqU22YpT,,119263\\r\\n119263,105841,True,Wed Oct 11 06:29:07 +0000 2017,\"@AppleSupport after the 11.0.2 my phone just sucks most of the apps are broken, wifi disconnects frequently #apple #ios1102 #painfulupdate\",119262,\\r\\n119264,British_Airways,False,Wed Oct 11 13:36:31 +0000 2017,\"@105842 We\\'re sorry your flight has been delayed, Beatner. Are you travelling on the BA8733? If so, the updated departure time we have is 15:30. 1/2\",,119265\\r\\n119265,105842,True,Wed Oct 11 10:42:43 +0000 2017,First flight for long time with @British_Airways. Now over one 1h delay for the short jump FRA-LCY and NO one here to provide status updates,\"119264,119266\",\\r\\n119267,AppleSupport,False,Wed Oct 11 13:30:38 +0000 2017,\"@105843 Battery life is important, and we\\'re here for you. DM us the iOS version your iPhone is running. We\\'ll go from there. https://t.co/GDrqU22YpT\",,119268\\r\\n119268,105843,True,Wed Oct 11 06:27:16 +0000 2017,Okay @76099 I used my fucking phone for 2 minutes and it drains it down 8 fucking percent,119267,\\r\\n119269,AppleSupport,False,Wed Oct 11 13:30:12 +0000 2017,@105844 Thanks for reaching out to us. We are always happy to help. Send us a DM so we can look into this together. https://t.co/GDrqU22YpT,,119270\\r\\n119270,105844,True,Wed Oct 11 06:49:50 +0000 2017,\"@AppleSupport Can you get my iPhone 7plus back on the old iOS please?  Battery runs out in half the time, apps now frequently crash.\",119269,119271\\r\\n119271,AppleSupport,False,Wed Oct 11 03:26:00 +0000 2017,@105844 We\\'d be happy to help. Send us a DM and we can start there. https://t.co/GDrqU22YpT,119270,119272\\r\\n119272,105844,True,Wed Oct 11 02:19:23 +0000 2017,You\\xe2\\x80\\x99ve paralysed my phone with your update @76099 grrrrrrrrrr,119271,\\r\\n119273,O2,False,Wed Oct 11 13:13:14 +0000 2017,\"@82476 \\xf0\\x9f\\xa4\\x94 We\\'d like to help Sam, which number is calling you? Please DM us more info so we can advise further. https://t.co/5pyLDJBC6r\",,119274\\r\\n119274,82476,True,Wed Oct 11 12:50:07 +0000 2017,\"@O2 I received this a few weeks ago, since then I\\'ve been getting 2/3 calls a day from a telemarketer. Is someone using your name? https://t.co/GLtz4XHcex\",119273,\\r\\n119275,comcastcares,False,Wed Oct 11 13:42:46 +0000 2017,\"@105845 I understand this is a frustrating experience, please send a DM with your account information so I can look into this matter for you. -AD\",,119276\\r\\n119276,105845,True,Wed Oct 11 13:38:04 +0000 2017,\"My internet is down and xfinity talkin about 24-72 hours... y\\xe2\\x80\\x99all have the game messed up. \\n\\n@77245\",119275,\\r\\n119277,sprintcare,False,Wed Oct 11 13:29:53 +0000 2017,@105676 I understand how you frustrated this situation can be. Please follow us by sending a DM for further assistance. Sprint Cares. -AC,,119278\\r\\n119278,105676,True,Wed Oct 11 13:24:06 +0000 2017,@76803  I service last 40 min sprint can I get a refund https://t.co/wYPw9hP6wt,119277,\\r\\n119279,AppleSupport,False,Wed Oct 11 13:35:01 +0000 2017,@105846 We\\'d like to help. What happens when you try to listen to Apple Music &amp; use WhatsApp? Does the music pause? Let us know in DM. https://t.co/GDrqU22YpT,,119280\\r\\n119280,105846,True,Wed Oct 11 07:13:34 +0000 2017,So the new @76099 update does not let me listen to music and go on whatsapp at the same time?!?,119279,\\r\\n119281,SpotifyCares,False,Wed Oct 11 13:31:32 +0000 2017,@105847 Hi Harry! Help\\'s here. Can you check if logging out &gt; restarting your device &gt; logging back in makes a difference? Keep us posted /MU,119282,119283\\r\\n119282,105847,True,Wed Oct 11 13:46:20 +0000 2017,@SpotifyCares seems to be working at this stage. Will let you know if it happens again. Cheers,119284,119281\\r\\n119284,SpotifyCares,False,Wed Oct 11 14:07:15 +0000 2017,@105847 Sure thing. We\\'ll keep an eye out for your update /MU,119285,119282\\r\\n119285,105847,True,Thu Oct 12 10:25:35 +0000 2017,@SpotifyCares problem has come back again today. is there some kind of bug?,119286,119284\\r\\n119286,SpotifyCares,False,Thu Oct 12 11:43:57 +0000 2017,\"@105847 Thanks for giving us a nudge about this. What device, operating system, and Spotify version is this happening on? /AY\",119287,119285\\r\\n119287,105847,True,Thu Oct 12 12:04:21 +0000 2017,\"@SpotifyCares It\\'s on a Macbook Air (early 2014), running High Sierra, spotify version 1.0.65.320.gac7a8e02\",119288,119286\\r\\n119288,SpotifyCares,False,Thu Oct 12 12:09:13 +0000 2017,@105847 Got it. Can you try the steps here for us: https://t.co/EqisDMwZAT? They should help with this. Let us know how it plays out /AY,,119287\\r\\n119283,105847,True,Wed Oct 11 12:37:46 +0000 2017,@SpotifyCares i\\'ve been having issues with playback. songs have been stopping midway through and won\\'t restart unless i close and reopen app,119281,\\r\\n119289,AppleSupport,False,Wed Oct 11 13:44:29 +0000 2017,@105848 Let\\'s take a look. What is the exact iOS you\\'re using? Are you using any specific apps when noticing this? DM us your reply. https://t.co/GDrqU22YpT,\"119290,119291\",119292\\r\\n119290,105848,True,Wed Oct 11 13:48:49 +0000 2017,@AppleSupport Latest version \\xf0\\x9f\\x98\\xa1\\xf0\\x9f\\x98\\xa1 I have read the help page turned off virtually all apps and location svs too - but in typing this I dropped 3% life,,119289\\r\\n119291,105848,True,Wed Oct 11 15:44:02 +0000 2017,@AppleSupport Super help - problem solved \\xf0\\x9f\\x98\\x80 once again in love with Apple,,119289\\r\\n119292,105848,True,Wed Oct 11 08:06:34 +0000 2017,@AppleSupport #ios11update - is still killing my battery within 12 hours - phone is 10 months old - it\\xe2\\x80\\x99s a disgrace - used to get 2 days,119289,\\r\\n119293,AppleSupport,False,Wed Oct 11 13:30:00 +0000 2017,@105849 Thanks for reaching out to us. We are always happy to help. Send us a DM so we can look into this together. https://t.co/GDrqU22YpT,,119294\\r\\n119294,105849,True,Wed Oct 11 07:03:47 +0000 2017,\"Took my phone off charge at 7:20am.\\n\\n8:03am - 60% battery remaining.\\n\\n@76099 plz I beg you, sort your battery life out\\xf0\\x9f\\x98\\xa9\",119293,\\r\\n119295,SouthwestAir,False,Wed Oct 11 13:39:32 +0000 2017,\"@105850 Once the points load and you hit the number, you get it immediately! You\\'ll even receive a congrats email. Are you almost there? ^AC\",119296,119297\\r\\n119296,105850,True,Wed Oct 11 13:55:48 +0000 2017,@SouthwestAir I am! Thank you for the answer!!,,119295\\r\\n119297,105850,True,Wed Oct 11 13:34:46 +0000 2017,@southwestair Just curious....will I get the companion pass the exact moment I get enough points? It will I have to wait? Thanks!,119295,\\r\\n119298,AppleSupport,False,Wed Oct 11 13:34:00 +0000 2017,@105851 We\\'d like to provide some assistance with this. Tell us more about the issue you\\'re experiencing in DM. We\\'ll go from there. https://t.co/GDrqU22YpT,,119299\\r\\n119299,105851,True,Wed Oct 11 07:16:18 +0000 2017,@AppleSupport I need a new code for my I-store. I haven\\xe2\\x80\\x99t recd any but msg is too many sent. Help!,119298,\\r\\n119300,AppleSupport,False,Wed Oct 11 13:31:27 +0000 2017,\"@105852 Are you experiencing an issue with your device? If so, DM us with what\\'s going on. We\\'ll see how we can help from there. https://t.co/GDrqU22YpT\",,119301\\r\\n119301,105852,True,Wed Oct 11 08:50:14 +0000 2017,@76099 @AppleSupport fix this update. It\\xe2\\x80\\x99s horrible,119300,\\r\\n119266,British_Airways,False,Wed Oct 11 13:37:15 +0000 2017,\"@105842 I appreciate it\\'s after 15:30 now, so hopefully you will depart very soon. We\\'re sorry for any inconvenience the delay has caused. 2/2 ^JR\",119302,119265\\r\\n119302,105842,True,Wed Oct 11 13:47:24 +0000 2017,\"@British_Airways Thanks for your answer. Response onsite was that Aircraft will not depart today, so rebooking to @105853 with now 4h delay...\",119303,119266\\r\\n119303,British_Airways,False,Wed Oct 11 16:28:34 +0000 2017,@105842 Very sorry to hear this.  We hope you get everything sorted.   Kind Regards ^Jools,,119302\\r\\n119304,Ask_Spectrum,False,Wed Oct 11 13:42:00 +0000 2017,\"@105854 I am sorry for the poor experience. Can you please DM the full service address and name on the account, as we ass... https://t.co/JEZhqGdBMd\",119305,119306\\r\\n119305,105854,True,Wed Oct 11 13:49:52 +0000 2017,@Ask_Spectrum It\\'s just in my yard. I\\'ve called 4-5 times in 6 weeks. I\\'m not a customer but it\\'s pretty tempting. I do have some coaxial,,119304\\r\\n119306,105854,True,Wed Oct 11 13:27:49 +0000 2017,@76501 I guess this means free cable for the neighborhood. https://t.co/FBgEE9YXPm,\"119304,119307\",\\r\\n119308,Tesco,False,Wed Oct 11 13:33:07 +0000 2017,\"@105855 Hi Thomas, if a colleague believes the person buying alcohol looks under 25, they will be challenged for ID to prove they\\'re of age. - Paige\",119309,119310\\r\\n119309,105855,True,Wed Oct 11 13:33:43 +0000 2017,@Tesco Maybe hire colleagues who can see?,,119308\\r\\n119310,105855,True,Wed Oct 11 13:31:06 +0000 2017,@Tesco The point is if it\\'s enforced they do it properly or they don\\'t. Plus take some common-sense and think does that person look over 18?,119308,119311\\r\\n119311,Tesco,False,Wed Oct 11 13:28:34 +0000 2017,\"@105855 Hi Thomas, this is correct but this helps our store colleagues judge age and protect them from making underage sales. Amanda\",\"119310,119312\",119313\\r\\n119313,105855,True,Wed Oct 11 12:29:52 +0000 2017,@Tesco Uk offlicense law is 18. Not 25,119311,119314\\r\\n119314,Tesco,False,Wed Oct 11 12:17:02 +0000 2017,\"@105855 Hi Thomas, we operate a Think 25 policy at our stores. I\\'d be flattered to be ID\\'d. :-) - Helena\",119313,119315\\r\\n119315,105855,True,Wed Oct 11 12:14:41 +0000 2017,Got id\\'s @Tesco for buying one Adnams Broadside. Is being blind part of the job-spec? I am 35 and 99 kilos.,\"119316,119314\",\\r\\n119317,Tesco,False,Wed Oct 11 13:42:19 +0000 2017,\"@105856 Hi there, could you try deleting your cache and cookies and reinstalling the app if using it? This should fix the issue :) - Dani\",119318,119319\\r\\n119318,105856,True,Wed Oct 11 13:43:09 +0000 2017,@Tesco Will I lose all the shopping I\\'ve done if I delete the cache/cookies (not using app)?,119320,119317\\r\\n119320,Tesco,False,Wed Oct 11 13:45:00 +0000 2017,\"@105856 Hi there, as long as you sign out of your account prior to deleting your cache &amp; cookies, you\\'ll still have a full basket :) Thanks - Mike\",119321,119318\\r\\n119321,105856,True,Wed Oct 11 13:48:39 +0000 2017,@Tesco Done all that. Still telling me there are no delivery slots whatsoever.,119322,119320\\r\\n119322,Tesco,False,Wed Oct 11 13:49:29 +0000 2017,\"@105856 Can you DM me your full name, address and email? I\\'d be happy to look into this further for you :) Thanks - Mike\",,119321\\r\\n119319,105856,True,Wed Oct 11 13:36:32 +0000 2017,\"Hey @Tesco, your website\\'s broken. It\\'s telling me there are no delivery slots for the next 3 weeks, which I find slightly unlikely.\",119317,\\r\\n119323,AppleSupport,False,Wed Oct 11 13:55:31 +0000 2017,@105857 Is there a particular app that seems to cause these issues more than others? What model iPhone are you using? Join us in DM. https://t.co/GDrqU22YpT,,119324\\r\\n119324,105857,True,Wed Oct 11 08:52:14 +0000 2017,@AppleSupport I have the latest version iOS. It started immediately after I updated my phone.,119323,119325\\r\\n119325,AppleSupport,False,Wed Oct 11 00:19:34 +0000 2017,@105857 We\\'d like to help if we can. When did this start happening? Which version of iOS are you running currently?,119324,119326\\r\\n119326,105857,True,Tue Oct 10 23:09:08 +0000 2017,My apps stop working without warning and my phone freezes every five minutes! Love the new update @76099!!!!,119325,\\r\\n119327,HPSupport,False,Wed Oct 11 13:36:36 +0000 2017,\"@105858 Hi Agoura, thanks for tweeting. Please refer to this article: https://t.co/BSsgjZARTc &amp; click the link to reply back. ^Rashmi https://t.co/a2xkfCrUG1\",,119328\\r\\n119328,105858,True,Wed Oct 11 02:04:50 +0000 2017,@HPSupport Problem with printhead  Serial# TH536D1HN #hpcswus #hpprnt,119327,\\r\\n119329,UPSHelp,False,Wed Oct 11 13:56:00 +0000 2017,@105859 UPS has a service called My Choice that will allow your packages to be delivered to UPS Store. ^ML  https://t.co/BPZKndqww1 https://t.co/wKJHDXWGRQ,,119330\\r\\n119330,105859,True,Wed Oct 11 13:50:42 +0000 2017,@105860 I wish Amazon had an option of where I can just get it shipped to the ups store so I can avoid a lot of the struggle,119329,119331\\r\\n119331,105860,True,Wed Oct 11 13:47:14 +0000 2017,They reschedule my shit for tomorrow https://t.co/RsvZcT982t,119330,\\r\\n119332,Tesco,False,Wed Oct 11 13:34:06 +0000 2017,\"@105861 Hey Sara, sorry to hear of the issues you are having, can I ask if it\\'s the lay out or just the speed of the website responding? TY - Chris\",119333,119334\\r\\n119333,105861,True,Wed Oct 11 14:05:18 +0000 2017,@Tesco bit of both - finding the layout cumbersome and when removing an item from faves - getting a huge slowdown. Not keen on the thin green line https://t.co/9281OKEebk,\"119335,119336\",119332\\r\\n119335,Tesco,False,Wed Oct 11 15:38:07 +0000 2017,\"@105861 If that doesn\\'t help please DM your full name, address and email including the browser and device so we can log this. Thanks - Lee 2/2\",,119333\\r\\n'}"
            ]
          },
          "metadata": {},
          "execution_count": 1
        }
      ],
      "source": [
        "from google.colab import files\n",
        "files.upload()"
      ]
    },
    {
      "cell_type": "code",
      "source": [
        "from mpl_toolkits.mplot3d import Axes3D\n",
        "from sklearn.preprocessing import StandardScaler\n",
        "import matplotlib.pyplot as plt # plotting\n",
        "import numpy as np # linear algebra\n",
        "import os # accessing directory structure\n",
        "import pandas as pd # data processing, CSV file I/O (e.g. pd.read_csv)"
      ],
      "metadata": {
        "id": "12fyUUdpIhvm"
      },
      "execution_count": 2,
      "outputs": []
    },
    {
      "cell_type": "code",
      "source": [
        "print(os.listdir('../'))"
      ],
      "metadata": {
        "colab": {
          "base_uri": "https://localhost:8080/"
        },
        "id": "XI_yXYe9IoLt",
        "outputId": "c79456f5-8b10-4cd1-f000-e99d379a690b"
      },
      "execution_count": 4,
      "outputs": [
        {
          "output_type": "stream",
          "name": "stdout",
          "text": [
            "['usr', 'run', 'mnt', 'home', 'var', 'media', 'tmp', 'bin', 'lib64', 'srv', 'root', 'sbin', 'lib', 'proc', 'boot', 'sys', 'etc', 'opt', 'dev', 'content', '.dockerenv', 'datalab', 'tools', 'tensorflow-1.15.2', 'lib32', 'python-apt']\n"
          ]
        }
      ]
    },
    {
      "cell_type": "code",
      "source": [
        "# Distribution graphs (histogram/bar graph) of column data\n",
        "def plotPerColumnDistribution(df, nGraphShown, nGraphPerRow):\n",
        "    nunique = df.nunique()\n",
        "    df = df[[col for col in df if nunique[col] > 1 and nunique[col] < 50]] # For displaying purposes, pick columns that have between 1 and 50 unique values\n",
        "    nRow, nCol = df.shape\n",
        "    columnNames = list(df)\n",
        "    nGraphRow = (nCol + nGraphPerRow - 1) / nGraphPerRow\n",
        "    plt.figure(num = None, figsize = (6 * nGraphPerRow, 8 * nGraphRow), dpi = 80, facecolor = 'w', edgecolor = 'k')\n",
        "    for i in range(min(nCol, nGraphShown)):\n",
        "        plt.subplot(nGraphRow, nGraphPerRow, i + 1)\n",
        "        columnDf = df.iloc[:, i]\n",
        "        if (not np.issubdtype(type(columnDf.iloc[0]), np.number)):\n",
        "            valueCounts = columnDf.value_counts()\n",
        "            valueCounts.plot.bar()\n",
        "        else:\n",
        "            columnDf.hist()\n",
        "        plt.ylabel('counts')\n",
        "        plt.xticks(rotation = 90)\n",
        "        plt.title(f'{columnNames[i]} (column {i})')\n",
        "    plt.tight_layout(pad = 1.0, w_pad = 1.0, h_pad = 1.0)\n",
        "    plt.show()"
      ],
      "metadata": {
        "id": "hXgcqsDQIxm3"
      },
      "execution_count": 5,
      "outputs": []
    },
    {
      "cell_type": "code",
      "source": [
        "# Correlation matrix\n",
        "def plotCorrelationMatrix(df, graphWidth):\n",
        "    filename = df.dataframeName\n",
        "    df = df.dropna('columns') # drop columns with NaN\n",
        "    df = df[[col for col in df if df[col].nunique() > 1]] # keep columns where there are more than 1 unique values\n",
        "    if df.shape[1] < 2:\n",
        "        print(f'No correlation plots shown: The number of non-NaN or constant columns ({df.shape[1]}) is less than 2')\n",
        "        return\n",
        "    corr = df.corr()\n",
        "    plt.figure(num=None, figsize=(graphWidth, graphWidth), dpi=80, facecolor='w', edgecolor='k')\n",
        "    corrMat = plt.matshow(corr, fignum = 1)\n",
        "    plt.xticks(range(len(corr.columns)), corr.columns, rotation=90)\n",
        "    plt.yticks(range(len(corr.columns)), corr.columns)\n",
        "    plt.gca().xaxis.tick_bottom()\n",
        "    plt.colorbar(corrMat)\n",
        "    plt.title(f'Correlation Matrix for {filename}', fontsize=15)\n",
        "    plt.show()"
      ],
      "metadata": {
        "id": "FWhHuA-QI4t1"
      },
      "execution_count": 6,
      "outputs": []
    },
    {
      "cell_type": "code",
      "source": [
        "# Scatter and density plots\n",
        "def plotScatterMatrix(df, plotSize, textSize):\n",
        "    df = df.select_dtypes(include =[np.number]) # keep only numerical columns\n",
        "    # Remove rows and columns that would lead to df being singular\n",
        "    df = df.dropna('columns')\n",
        "    df = df[[col for col in df if df[col].nunique() > 1]] # keep columns where there are more than 1 unique values\n",
        "    columnNames = list(df)\n",
        "    if len(columnNames) > 10: # reduce the number of columns for matrix inversion of kernel density plots\n",
        "        columnNames = columnNames[:10]\n",
        "    df = df[columnNames]\n",
        "    ax = pd.plotting.scatter_matrix(df, alpha=0.75, figsize=[plotSize, plotSize], diagonal='kde')\n",
        "    corrs = df.corr().values\n",
        "    for i, j in zip(*plt.np.triu_indices_from(ax, k = 1)):\n",
        "        ax[i, j].annotate('Corr. coef = %.3f' % corrs[i, j], (0.8, 0.2), xycoords='axes fraction', ha='center', va='center', size=textSize)\n",
        "    plt.suptitle('Scatter and Density Plot')\n",
        "    plt.show()"
      ],
      "metadata": {
        "id": "oK0aRDVPI-IF"
      },
      "execution_count": 7,
      "outputs": []
    },
    {
      "cell_type": "code",
      "source": [
        "nRowsRead = 1000 # specify 'None' if want to read whole file\n",
        "df1 = pd.read_csv('sample.csv', delimiter=',', nrows = nRowsRead)\n",
        "df1.dataframeName = 'sample.csv'\n",
        "nRow, nCol = df1.shape\n",
        "print(f'There are {nRow} rows and {nCol} columns')"
      ],
      "metadata": {
        "colab": {
          "base_uri": "https://localhost:8080/"
        },
        "id": "ztIFhVHOJKnr",
        "outputId": "eaba063f-a06f-47b2-fbf6-bf3b8c268d65"
      },
      "execution_count": 11,
      "outputs": [
        {
          "output_type": "stream",
          "name": "stdout",
          "text": [
            "There are 93 rows and 7 columns\n"
          ]
        }
      ]
    },
    {
      "cell_type": "code",
      "source": [
        "df1.head(5)"
      ],
      "metadata": {
        "colab": {
          "base_uri": "https://localhost:8080/",
          "height": 206
        },
        "id": "ZKGo6s0VJWeU",
        "outputId": "516e469e-c124-4c8f-e4b7-f38a11ee0167"
      },
      "execution_count": 12,
      "outputs": [
        {
          "output_type": "execute_result",
          "data": {
            "text/plain": [
              "   tweet_id     author_id  inbound                      created_at  \\\n",
              "0    119237        105834     True  Wed Oct 11 06:55:44 +0000 2017   \n",
              "1    119238  ChaseSupport    False  Wed Oct 11 13:25:49 +0000 2017   \n",
              "2    119239        105835     True  Wed Oct 11 13:00:09 +0000 2017   \n",
              "3    119240  VirginTrains    False  Tue Oct 10 15:16:08 +0000 2017   \n",
              "4    119241        105836     True  Tue Oct 10 15:17:21 +0000 2017   \n",
              "\n",
              "                                                text response_tweet_id  \\\n",
              "0  @AppleSupport causing the reply to be disregar...            119236   \n",
              "1  @105835 Your business means a lot to us. Pleas...               NaN   \n",
              "2  @76328 I really hope you all change but I'm su...            119238   \n",
              "3  @105836 LiveChat is online at the moment - htt...            119241   \n",
              "4  @VirginTrains see attached error message. I've...            119243   \n",
              "\n",
              "   in_response_to_tweet_id  \n",
              "0                      NaN  \n",
              "1                 119239.0  \n",
              "2                      NaN  \n",
              "3                 119242.0  \n",
              "4                 119240.0  "
            ],
            "text/html": [
              "\n",
              "  <div id=\"df-a76238fb-ddd6-49bb-89f0-3601d8b13f25\">\n",
              "    <div class=\"colab-df-container\">\n",
              "      <div>\n",
              "<style scoped>\n",
              "    .dataframe tbody tr th:only-of-type {\n",
              "        vertical-align: middle;\n",
              "    }\n",
              "\n",
              "    .dataframe tbody tr th {\n",
              "        vertical-align: top;\n",
              "    }\n",
              "\n",
              "    .dataframe thead th {\n",
              "        text-align: right;\n",
              "    }\n",
              "</style>\n",
              "<table border=\"1\" class=\"dataframe\">\n",
              "  <thead>\n",
              "    <tr style=\"text-align: right;\">\n",
              "      <th></th>\n",
              "      <th>tweet_id</th>\n",
              "      <th>author_id</th>\n",
              "      <th>inbound</th>\n",
              "      <th>created_at</th>\n",
              "      <th>text</th>\n",
              "      <th>response_tweet_id</th>\n",
              "      <th>in_response_to_tweet_id</th>\n",
              "    </tr>\n",
              "  </thead>\n",
              "  <tbody>\n",
              "    <tr>\n",
              "      <th>0</th>\n",
              "      <td>119237</td>\n",
              "      <td>105834</td>\n",
              "      <td>True</td>\n",
              "      <td>Wed Oct 11 06:55:44 +0000 2017</td>\n",
              "      <td>@AppleSupport causing the reply to be disregar...</td>\n",
              "      <td>119236</td>\n",
              "      <td>NaN</td>\n",
              "    </tr>\n",
              "    <tr>\n",
              "      <th>1</th>\n",
              "      <td>119238</td>\n",
              "      <td>ChaseSupport</td>\n",
              "      <td>False</td>\n",
              "      <td>Wed Oct 11 13:25:49 +0000 2017</td>\n",
              "      <td>@105835 Your business means a lot to us. Pleas...</td>\n",
              "      <td>NaN</td>\n",
              "      <td>119239.0</td>\n",
              "    </tr>\n",
              "    <tr>\n",
              "      <th>2</th>\n",
              "      <td>119239</td>\n",
              "      <td>105835</td>\n",
              "      <td>True</td>\n",
              "      <td>Wed Oct 11 13:00:09 +0000 2017</td>\n",
              "      <td>@76328 I really hope you all change but I'm su...</td>\n",
              "      <td>119238</td>\n",
              "      <td>NaN</td>\n",
              "    </tr>\n",
              "    <tr>\n",
              "      <th>3</th>\n",
              "      <td>119240</td>\n",
              "      <td>VirginTrains</td>\n",
              "      <td>False</td>\n",
              "      <td>Tue Oct 10 15:16:08 +0000 2017</td>\n",
              "      <td>@105836 LiveChat is online at the moment - htt...</td>\n",
              "      <td>119241</td>\n",
              "      <td>119242.0</td>\n",
              "    </tr>\n",
              "    <tr>\n",
              "      <th>4</th>\n",
              "      <td>119241</td>\n",
              "      <td>105836</td>\n",
              "      <td>True</td>\n",
              "      <td>Tue Oct 10 15:17:21 +0000 2017</td>\n",
              "      <td>@VirginTrains see attached error message. I've...</td>\n",
              "      <td>119243</td>\n",
              "      <td>119240.0</td>\n",
              "    </tr>\n",
              "  </tbody>\n",
              "</table>\n",
              "</div>\n",
              "      <button class=\"colab-df-convert\" onclick=\"convertToInteractive('df-a76238fb-ddd6-49bb-89f0-3601d8b13f25')\"\n",
              "              title=\"Convert this dataframe to an interactive table.\"\n",
              "              style=\"display:none;\">\n",
              "        \n",
              "  <svg xmlns=\"http://www.w3.org/2000/svg\" height=\"24px\"viewBox=\"0 0 24 24\"\n",
              "       width=\"24px\">\n",
              "    <path d=\"M0 0h24v24H0V0z\" fill=\"none\"/>\n",
              "    <path d=\"M18.56 5.44l.94 2.06.94-2.06 2.06-.94-2.06-.94-.94-2.06-.94 2.06-2.06.94zm-11 1L8.5 8.5l.94-2.06 2.06-.94-2.06-.94L8.5 2.5l-.94 2.06-2.06.94zm10 10l.94 2.06.94-2.06 2.06-.94-2.06-.94-.94-2.06-.94 2.06-2.06.94z\"/><path d=\"M17.41 7.96l-1.37-1.37c-.4-.4-.92-.59-1.43-.59-.52 0-1.04.2-1.43.59L10.3 9.45l-7.72 7.72c-.78.78-.78 2.05 0 2.83L4 21.41c.39.39.9.59 1.41.59.51 0 1.02-.2 1.41-.59l7.78-7.78 2.81-2.81c.8-.78.8-2.07 0-2.86zM5.41 20L4 18.59l7.72-7.72 1.47 1.35L5.41 20z\"/>\n",
              "  </svg>\n",
              "      </button>\n",
              "      \n",
              "  <style>\n",
              "    .colab-df-container {\n",
              "      display:flex;\n",
              "      flex-wrap:wrap;\n",
              "      gap: 12px;\n",
              "    }\n",
              "\n",
              "    .colab-df-convert {\n",
              "      background-color: #E8F0FE;\n",
              "      border: none;\n",
              "      border-radius: 50%;\n",
              "      cursor: pointer;\n",
              "      display: none;\n",
              "      fill: #1967D2;\n",
              "      height: 32px;\n",
              "      padding: 0 0 0 0;\n",
              "      width: 32px;\n",
              "    }\n",
              "\n",
              "    .colab-df-convert:hover {\n",
              "      background-color: #E2EBFA;\n",
              "      box-shadow: 0px 1px 2px rgba(60, 64, 67, 0.3), 0px 1px 3px 1px rgba(60, 64, 67, 0.15);\n",
              "      fill: #174EA6;\n",
              "    }\n",
              "\n",
              "    [theme=dark] .colab-df-convert {\n",
              "      background-color: #3B4455;\n",
              "      fill: #D2E3FC;\n",
              "    }\n",
              "\n",
              "    [theme=dark] .colab-df-convert:hover {\n",
              "      background-color: #434B5C;\n",
              "      box-shadow: 0px 1px 3px 1px rgba(0, 0, 0, 0.15);\n",
              "      filter: drop-shadow(0px 1px 2px rgba(0, 0, 0, 0.3));\n",
              "      fill: #FFFFFF;\n",
              "    }\n",
              "  </style>\n",
              "\n",
              "      <script>\n",
              "        const buttonEl =\n",
              "          document.querySelector('#df-a76238fb-ddd6-49bb-89f0-3601d8b13f25 button.colab-df-convert');\n",
              "        buttonEl.style.display =\n",
              "          google.colab.kernel.accessAllowed ? 'block' : 'none';\n",
              "\n",
              "        async function convertToInteractive(key) {\n",
              "          const element = document.querySelector('#df-a76238fb-ddd6-49bb-89f0-3601d8b13f25');\n",
              "          const dataTable =\n",
              "            await google.colab.kernel.invokeFunction('convertToInteractive',\n",
              "                                                     [key], {});\n",
              "          if (!dataTable) return;\n",
              "\n",
              "          const docLinkHtml = 'Like what you see? Visit the ' +\n",
              "            '<a target=\"_blank\" href=https://colab.research.google.com/notebooks/data_table.ipynb>data table notebook</a>'\n",
              "            + ' to learn more about interactive tables.';\n",
              "          element.innerHTML = '';\n",
              "          dataTable['output_type'] = 'display_data';\n",
              "          await google.colab.output.renderOutput(dataTable, element);\n",
              "          const docLink = document.createElement('div');\n",
              "          docLink.innerHTML = docLinkHtml;\n",
              "          element.appendChild(docLink);\n",
              "        }\n",
              "      </script>\n",
              "    </div>\n",
              "  </div>\n",
              "  "
            ]
          },
          "metadata": {},
          "execution_count": 12
        }
      ]
    },
    {
      "cell_type": "code",
      "source": [
        "plotPerColumnDistribution(df1, 10, 5)"
      ],
      "metadata": {
        "colab": {
          "base_uri": "https://localhost:8080/",
          "height": 778
        },
        "id": "o1DlTIo7Jcwi",
        "outputId": "0af73443-0739-4b63-c4b6-98695c16777b"
      },
      "execution_count": 13,
      "outputs": [
        {
          "output_type": "display_data",
          "data": {
            "text/plain": [
              "<Figure size 2400x768 with 2 Axes>"
            ],
            "image/png": "[encoded data removed]"
          },
          "metadata": {}
        }
      ]
    }
  ]
}